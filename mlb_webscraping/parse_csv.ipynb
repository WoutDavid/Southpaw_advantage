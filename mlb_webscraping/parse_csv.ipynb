{
 "cells": [
  {
   "cell_type": "code",
   "execution_count": 33,
   "metadata": {},
   "outputs": [],
   "source": [
    "import pandas as pd \n",
    "import os"
   ]
  },
  {
   "cell_type": "code",
   "execution_count": 34,
   "metadata": {},
   "outputs": [],
   "source": [
    "##reading and shifting the columns a bit\n",
    "df = pd.read_csv(\"hitters.csv\")\n",
    "df.drop(\"Unnamed: 0\", inplace=True, axis=1)\n",
    "df.rename(columns={\"caret-upcaret-downOPS\": \"OPS\"}, inplace=True)\n"
   ]
  },
  {
   "cell_type": "code",
   "execution_count": 36,
   "metadata": {},
   "outputs": [],
   "source": [
    "##parse the player column\n",
    "for i,player in enumerate(df[\"PLAYER\"]):\n",
    "    if i <10:\n",
    "        new_player = player[1:len(player)-6]\n",
    "    elif i<100:\n",
    "        new_player = player[2:len(player)-7]\n",
    "    else:\n",
    "        new_player = player[3:len(player)-8]\n",
    "    df[\"PLAYER\"].replace({player: new_player}, inplace=True)"
   ]
  },
  {
   "cell_type": "code",
   "execution_count": 38,
   "metadata": {
    "scrolled": false
   },
   "outputs": [],
   "source": [
    "df.to_csv(\"parsed_hitters.csv\")"
   ]
  }
 ],
 "metadata": {
  "kernelspec": {
   "display_name": "Python 3.8.3 64-bit ('base': conda)",
   "language": "python",
   "name": "python38364bitbasecondab769b7be9cf146b4bc7aa243196315bd"
  },
  "language_info": {
   "codemirror_mode": {
    "name": "ipython",
    "version": 3
   },
   "file_extension": ".py",
   "mimetype": "text/x-python",
   "name": "python",
   "nbconvert_exporter": "python",
   "pygments_lexer": "ipython3",
   "version": "3.8.6"
  }
 },
 "nbformat": 4,
 "nbformat_minor": 4
}
