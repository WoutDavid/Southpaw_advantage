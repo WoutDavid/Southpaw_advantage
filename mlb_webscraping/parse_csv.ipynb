{
 "cells": [
  {
   "cell_type": "code",
   "execution_count": 76,
   "metadata": {},
   "outputs": [],
   "source": [
    "#importing necessary packages\n",
    "import pandas as pd \n",
    "import os"
   ]
  },
  {
   "cell_type": "code",
   "execution_count": 77,
   "metadata": {},
   "outputs": [],
   "source": [
    "##read in data\n",
    "dfVersusLeft = pd.read_csv(\"../data/versus_vl.csv\")\n",
    "dfVersusRight = pd.read_csv(\"../data/versus_vr.csv\")\n",
    "dfVersusList = [dfVersusLeft, dfVersusRight]"
   ]
  },
  {
   "cell_type": "code",
   "execution_count": 78,
   "metadata": {},
   "outputs": [],
   "source": [
    "##reading and shifting the columns a bit\n",
    "#creating new columns for later\n",
    "for df in dfVersusList:\n",
    "    df.drop(\"Unnamed: 0\", inplace=True, axis=1)\n",
    "    df.rename(columns={\"caret-upcaret-downOPS\": \"OPS\"}, inplace=True)\n",
    "    df[\"FIRSTNAME\"] = df[\"PLAYER\"]\n",
    "    df[\"LASTNAME\"] = df[\"PLAYER\"]\n"
   ]
  },
  {
   "cell_type": "code",
   "execution_count": 80,
   "metadata": {},
   "outputs": [],
   "source": [
    "##Parsing the name column since it is ineligable and I need last name identifiers to merge with another \n",
    "##database in R\n",
    "def extractLastName(string):\n",
    "    temp = string[:len(string) // 2]\n",
    "    return temp\n",
    "\n",
    "def extractFirstName(string):\n",
    "    temp = string[:-1]\n",
    "    return temp\n",
    "\n",
    "for df in dfVersusList:\n",
    "    for i,player in enumerate(df[\"PLAYER\"]):\n",
    "        if i <10:\n",
    "            new_player = player[1:len(player)-6]\n",
    "        elif i<100:\n",
    "            new_player = player[2:len(player)-7]\n",
    "        else:\n",
    "            new_player = player[3:len(player)-8]\n",
    "        splitName = new_player.split(\" \")\n",
    "        df[\"FIRSTNAME\"].replace({player: extractFirstName(splitName[0])},inplace=True)\n",
    "        df[\"LASTNAME\"].replace({player: extractLastName(splitName[1])},inplace=True)\n",
    "        df[\"PLAYER\"].replace({player: new_player}, inplace=True)"
   ]
  },
  {
   "cell_type": "code",
   "execution_count": 82,
   "metadata": {
    "scrolled": false
   },
   "outputs": [],
   "source": [
    "#Saving the data to csv's to import into R\n",
    "dfVersusList[0].to_csv(\"versusLeft.csv\")\n",
    "dfVersusList[1].to_csv(\"versusRight.csv\")"
   ]
  }
 ],
 "metadata": {
  "kernelspec": {
   "display_name": "Python 3.8.3 64-bit ('base': conda)",
   "language": "python",
   "name": "python38364bitbasecondab769b7be9cf146b4bc7aa243196315bd"
  },
  "language_info": {
   "codemirror_mode": {
    "name": "ipython",
    "version": 3
   },
   "file_extension": ".py",
   "mimetype": "text/x-python",
   "name": "python",
   "nbconvert_exporter": "python",
   "pygments_lexer": "ipython3",
   "version": "3.8.6"
  }
 },
 "nbformat": 4,
 "nbformat_minor": 4
}
